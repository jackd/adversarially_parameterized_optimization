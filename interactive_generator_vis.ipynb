{
 "cells": [
  {
   "cell_type": "code",
   "execution_count": 1,
   "metadata": {},
   "outputs": [],
   "source": [
    "import numpy as np\n",
    "import tensorflow as tf\n",
    "import matplotlib.pyplot as plt\n",
    "from ipywidgets import interact, widgets\n",
    "from gan import get_random_generator_input, get_generator_sample\n",
    "from gan import load_params, model_dir\n",
    "from human_pose_util.register import skeleton_register, dataset_register\n",
    "from human_pose_util.register import register_defaults\n",
    "from human_pose_util.skeleton import vis3d"
   ]
  },
  {
   "cell_type": "code",
   "execution_count": 2,
   "metadata": {},
   "outputs": [],
   "source": [
    "model_name = 'big'"
   ]
  },
  {
   "cell_type": "code",
   "execution_count": 3,
   "metadata": {},
   "outputs": [],
   "source": [
    "register_defaults()\n",
    "params = load_params(model_name)\n",
    "skeleton = skeleton_register[\n",
    "    dataset_register[params['dataset']]['train'].attrs['skeleton_id']]\n",
    "n_z = params['n_z']"
   ]
  },
  {
   "cell_type": "code",
   "execution_count": 4,
   "metadata": {},
   "outputs": [],
   "source": [
    "z_vals = np.zeros((n_z,), dtype=np.float32)"
   ]
  },
  {
   "cell_type": "code",
   "execution_count": 5,
   "metadata": {},
   "outputs": [],
   "source": [
    "graph = tf.Graph()\n",
    "with graph.as_default():\n",
    "    z = tf.placeholder(shape=(1, n_z,), dtype=tf.float32, name='z')\n",
    "    sample = get_generator_sample(z, params, reuse=False)\n",
    "    generator_vars = tf.get_collection(tf.GraphKeys.GLOBAL_VARIABLES)"
   ]
  },
  {
   "cell_type": "code",
   "execution_count": 6,
   "metadata": {},
   "outputs": [
    {
     "name": "stdout",
     "output_type": "stream",
     "text": [
      "INFO:tensorflow:Restoring parameters from /home/jackd/Development/python/adversarially_parameterized_optimization/models/big/model.ckpt-9868002\n"
     ]
    }
   ],
   "source": [
    "sess = tf.InteractiveSession(graph=graph)\n",
    "saver = tf.train.Saver(var_list=generator_vars)\n",
    "saver.restore(sess, tf.train.latest_checkpoint(model_dir(model_name)))"
   ]
  },
  {
   "cell_type": "code",
   "execution_count": 7,
   "metadata": {},
   "outputs": [
    {
     "data": {
      "application/vnd.jupyter.widget-view+json": {
       "model_id": "c40d04154edf468b9dd486717063d737",
       "version_major": 2,
       "version_minor": 0
      },
      "text/html": [
       "<p>Failed to display Jupyter Widget of type <code>interactive</code>.</p>\n",
       "<p>\n",
       "  If you're reading this message in Jupyter Notebook or JupyterLab, it may mean\n",
       "  that the widgets JavaScript is still loading. If this message persists, it\n",
       "  likely means that the widgets JavaScript library is either not installed or\n",
       "  not enabled. See the <a href=\"https://ipywidgets.readthedocs.io/en/stable/user_install.html\">Jupyter\n",
       "  Widgets Documentation</a> for setup instructions.\n",
       "</p>\n",
       "<p>\n",
       "  If you're reading this message in another notebook frontend (for example, a static\n",
       "  rendering on GitHub or <a href=\"https://nbviewer.jupyter.org/\">NBViewer</a>),\n",
       "  it may mean that your frontend doesn't currently support widgets.\n",
       "</p>\n"
      ],
      "text/plain": [
       "interactive(children=(Dropdown(description=u'i', options=(0, 1, 2, 3, 4, 5, 6, 7, 8, 9, 10, 11, 12, 13, 14, 15, 16, 17, 18, 19, 20, 21, 22, 23, 24, 25, 26, 27, 28, 29, 30, 31), value=0), FloatSlider(value=0.0, description=u'z_val', max=3.0, min=-3.0), Output()), _dom_classes=('widget-interact',))"
      ]
     },
     "metadata": {},
     "output_type": "display_data"
    }
   ],
   "source": [
    "@interact(i=range(n_z), z_val=(-3.0, 3.0))\n",
    "def generate(i=0, z_val=0.):\n",
    "    z_vals[i] = z_val\n",
    "    pose = sess.run(sample, feed_dict={z: np.expand_dims(z_vals, axis=0)})[0]\n",
    "    ax = vis3d(skeleton, pose)\n",
    "    r = 0.6\n",
    "    ax.set_zlim3d(0, 2*r)\n",
    "    ax.set_xlim3d(-r, r)\n",
    "    ax.set_ylim3d(-r, r)\n",
    "    plt.show()"
   ]
  },
  {
   "cell_type": "code",
   "execution_count": 8,
   "metadata": {},
   "outputs": [],
   "source": [
    "sess.close()"
   ]
  },
  {
   "cell_type": "code",
   "execution_count": null,
   "metadata": {},
   "outputs": [],
   "source": []
  }
 ],
 "metadata": {
  "kernelspec": {
   "display_name": "Python 2",
   "language": "python",
   "name": "python2"
  },
  "language_info": {
   "codemirror_mode": {
    "name": "ipython",
    "version": 2
   },
   "file_extension": ".py",
   "mimetype": "text/x-python",
   "name": "python",
   "nbconvert_exporter": "python",
   "pygments_lexer": "ipython2",
   "version": "2.7.12"
  }
 },
 "nbformat": 4,
 "nbformat_minor": 2
}
