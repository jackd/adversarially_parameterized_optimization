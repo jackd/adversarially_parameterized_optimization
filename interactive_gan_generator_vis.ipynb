{
 "cells": [
  {
   "cell_type": "code",
   "execution_count": null,
   "metadata": {
    "collapsed": true
   },
   "outputs": [],
   "source": [
    "import numpy as np\n",
    "import tensorflow as tf\n",
    "import matplotlib.pyplot as plt\n",
    "from ipywidgets import interact, widgets\n",
    "from gan import get_random_generator_input, get_generator_sample\n",
    "from serialization import load_gan_params, gan_model_dir\n",
    "from human_pose_util.register import skeleton_register, dataset_register\n",
    "from human_pose_util.register import register_defaults\n",
    "from human_pose_util.skeleton import vis3d"
   ]
  },
  {
   "cell_type": "code",
   "execution_count": null,
   "metadata": {
    "collapsed": true
   },
   "outputs": [],
   "source": [
    "model_name = 'h3m_big'"
   ]
  },
  {
   "cell_type": "code",
   "execution_count": null,
   "metadata": {
    "collapsed": true
   },
   "outputs": [],
   "source": [
    "register_defaults()\n",
    "params = load_gan_params(model_name)\n",
    "skeleton = skeleton_register[\n",
    "    dataset_register[params['dataset']]['train'].attrs['skeleton_id']]\n",
    "n_z = params['n_z']"
   ]
  },
  {
   "cell_type": "code",
   "execution_count": null,
   "metadata": {
    "collapsed": true
   },
   "outputs": [],
   "source": [
    "z_vals = np.zeros((n_z,), dtype=np.float32)"
   ]
  },
  {
   "cell_type": "code",
   "execution_count": null,
   "metadata": {
    "collapsed": true
   },
   "outputs": [],
   "source": [
    "graph = tf.Graph()\n",
    "with graph.as_default():\n",
    "    z = tf.placeholder(shape=(1, n_z,), dtype=tf.float32, name='z')\n",
    "    sample = get_generator_sample(z, params, reuse=False)\n",
    "    generator_vars = tf.get_collection(tf.GraphKeys.GLOBAL_VARIABLES)"
   ]
  },
  {
   "cell_type": "code",
   "execution_count": null,
   "metadata": {},
   "outputs": [],
   "source": [
    "sess = tf.InteractiveSession(graph=graph)\n",
    "saver = tf.train.Saver(var_list=generator_vars)\n",
    "saver.restore(sess, tf.train.latest_checkpoint(gan_model_dir(model_name)))"
   ]
  },
  {
   "cell_type": "code",
   "execution_count": null,
   "metadata": {},
   "outputs": [],
   "source": [
    "@interact(i=range(n_z), z_val=(-3.0, 3.0))\n",
    "def generate(i=0, z_val=0.):\n",
    "    z_vals[i] = z_val\n",
    "    pose = sess.run(sample, feed_dict={z: np.expand_dims(z_vals, axis=0)})[0]\n",
    "    ax = vis3d(skeleton, pose)\n",
    "    r = 0.6\n",
    "    ax.set_zlim3d(0, 2*r)\n",
    "    ax.set_xlim3d(-r, r)\n",
    "    ax.set_ylim3d(-r, r)\n",
    "    plt.show()"
   ]
  },
  {
   "cell_type": "code",
   "execution_count": null,
   "metadata": {
    "collapsed": true
   },
   "outputs": [],
   "source": [
    "sess.close()"
   ]
  },
  {
   "cell_type": "code",
   "execution_count": null,
   "metadata": {
    "collapsed": true
   },
   "outputs": [],
   "source": []
  }
 ],
 "metadata": {
  "kernelspec": {
   "display_name": "Python 2",
   "language": "python",
   "name": "python2"
  },
  "language_info": {
   "codemirror_mode": {
    "name": "ipython",
    "version": 2
   },
   "file_extension": ".py",
   "mimetype": "text/x-python",
   "name": "python",
   "nbconvert_exporter": "python",
   "pygments_lexer": "ipython2",
   "version": "2.7.12"
  }
 },
 "nbformat": 4,
 "nbformat_minor": 2
}
